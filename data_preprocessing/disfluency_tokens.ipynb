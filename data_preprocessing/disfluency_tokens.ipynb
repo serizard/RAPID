{
 "cells": [
  {
   "cell_type": "code",
   "execution_count": 1,
   "metadata": {},
   "outputs": [],
   "source": [
    "from glob import glob\n",
    "from tqdm import tqdm\n",
    "import json"
   ]
  },
  {
   "cell_type": "code",
   "execution_count": 4,
   "metadata": {},
   "outputs": [
    {
     "name": "stderr",
     "output_type": "stream",
     "text": [
      "Reading transcripts:  27%|██▋       | 288/1072 [00:00<00:02, 327.18it/s]"
     ]
    },
    {
     "name": "stderr",
     "output_type": "stream",
     "text": [
      "Reading transcripts: 100%|██████████| 1072/1072 [00:06<00:00, 172.85it/s]\n"
     ]
    }
   ],
   "source": [
    "transcript_dir = '/workspace/dataset/transcripts'\n",
    "\n",
    "transcript_paths = glob(transcript_dir + '/*.json')\n",
    "\n",
    "word_list = []\n",
    "\n",
    "for transcript_path in tqdm(transcript_paths, desc='Reading transcripts'):\n",
    "    with open(transcript_path, 'r') as f:\n",
    "        transcript = json.load(f)\n",
    "    try:\n",
    "        for segment in transcript['transcription']['segments']:\n",
    "            words = [word['text'] for word in segment['words']]\n",
    "            word_list.extend(words)\n",
    "    except:\n",
    "        continue"
   ]
  },
  {
   "cell_type": "code",
   "execution_count": 5,
   "metadata": {},
   "outputs": [
    {
     "data": {
      "text/plain": [
       "398816"
      ]
     },
     "execution_count": 5,
     "metadata": {},
     "output_type": "execute_result"
    }
   ],
   "source": [
    "len(word_list)"
   ]
  },
  {
   "cell_type": "code",
   "execution_count": 6,
   "metadata": {},
   "outputs": [
    {
     "name": "stdout",
     "output_type": "stream",
     "text": [
      "['[*]', 'the', 'and', 'to', 'she', 'a', 'her', 'was', 'they', 'And', 'of', 'that', 'I', 'so', 'it', 'Cinderella', 'he', 'in', 'all', 'you', 'had', 'is', 'then', 'with', 'but', 'go', 'So', 'this', 'for', 'one', 'on', 'prince', 'were', 'going', 'have', 'She', 'two', 'out', 'be', 'there', 'at', 'got', 'get', 'like', 'ball', 'as', 'not', 'because', 'went', 'do', 'dress', 'very', 'know', 'who', \"she's\", 'into', 'just', 'beautiful', 'up', 'or', 'back', 'The', 'what', 'glass', \"it's\", 'has', 'But', \"don't\", 'little', 'fairy', 'would', 'um', 'stepmother', 'can', 'about', 'his', 'no', 'when', 'slipper', 'said,', 'made', 'stepsisters', 'no,', 'godmother', 'They', 'find', 'ball.', 'are', 'by', \"didn't\", 'said', 'her.', 'them', 'other', 'came', 'see', 'goes', \"that's\", 'woman', 'really', 'time', 'Cinderella,', 'story', 'everything', 'their', 'um,', 'home', 'mother', \"I'm\", 'girl', 'shoe', 'house', \"they're\", 'off', 'mice', 'could', 'want', 'good', 'Cinderella.', 'found', 'sisters', 'from', 'says,', 'Okay.', 'her,', 'gets', 'wanted', 'fit', 'me', 'come', 'nice', 'my', \"can't\", 'uh,', 'girls', 'know,', 'think', 'it.', 'did', 'try', 'mean', 'uh', 'where', 'He', 'father', 'married', 'pumpkin', 'oh', 'tell', 'ball,', 'make', 'well', 'ever', 'some', 'king', 'down', 'the,', 'young', 'daughters', 'around', 'man', 'midnight', 'him', 'looking', 'left', 'carriage', 'tried', 'put', 'an', 'we', 'kind', 'go.', 'there.', \"Cinderella's\", 'Well,', 'took', 'happily', \"there's\", 'oh,', 'prince,', 'looked', 'now', 'animals', 'people', 'pretty', 'will', 'after', 'how', 'these', 'comes', 'lived', 'take', 'that.', 'away', 'if', 'your', 'thing', 'castle', 'okay,', 'turned', 'much', 'look', \"he's\", 'dance', 'big', '12', 'told', 'love', \"It's\", 'way', 'only', 'horses', 'mother,', 'friends', 'after.', 'say', 'slipper.', 'saw', 'right', 'it,', 'three', 'over', 'things', 'day', 'lost', 'live', 'trying', 'You', 'Okay,', 'something', 'new', 'time,', 'What', 'everybody', 'leave', 'foot', 'work', 'here', 'help', 'dancing', 'remember', 'happy', 'ran', 'Oh,', \"doesn't\", 'ready', 'slippers', 'says', 'clock', 'old', 'dressed', 'i', 'person', 'dress.', 'before', 'decided', 'So,', 'midnight.', 'girl,', 'kingdom', 'lady', 'was,', 'It', \"you're\", \"couldn't\", 'danced', 'there,', 'even', 'which', 'Yeah.', 'getting', 'princess', 'doing', 'good.', 'party', 'know.', 'wants', 'any', 'guess', 'Yes.', 'having', 'sudden', 'stuff', 'well,', 'horse', \"That's\", 'prince.', 'shoes', 'evil', 'let', 'too', 'go,', 'course', 'coach', 'place', 'running', 'them.', 'time.', 'also', 'All']\n"
     ]
    }
   ],
   "source": [
    "from collections import Counter\n",
    "\n",
    "# Count the frequency of each word in the word_list\n",
    "word_counter = Counter(word_list)\n",
    "\n",
    "# Get the top-300 most common words\n",
    "top_300_words = word_counter.most_common(300)\n",
    "\n",
    "# Extract just the words from the top-300 list\n",
    "top_300_words = [word for word, count in top_300_words]\n",
    "\n",
    "print(top_300_words)"
   ]
  },
  {
   "cell_type": "code",
   "execution_count": 9,
   "metadata": {},
   "outputs": [],
   "source": [
    "with open('/workspace/RAPID/dataset/_disfluency_tk_300.json', 'w') as f:\n",
    "    json.dump(top_300_words, f, indent=2)"
   ]
  },
  {
   "cell_type": "code",
   "execution_count": 8,
   "metadata": {},
   "outputs": [
    {
     "name": "stdout",
     "output_type": "stream",
     "text": [
      "['[*]', 'the', 'and', 'to', 'um', 'she', 'a', 'her', 'was', 'they', 'so', 'that', 'of', 'cinderella', 'it', 'uh', 'in', 'i', 'he', 'but', 'all', 'is', 'had', 'then', 'ball', 'go', 'with', 'prince', 'this', 'one', 'on', 'you', 'two', 'there', 'were', 'for', 'going', 'king', 'be', 'know', 'out', 'at', 'no', 'not', 'like', 'slipper', 'get', 'have', 'dress', 'got', 'up', 'very', 'went', 'who', 'glass', 'because', 'or', 'time', 'stepmother', 'oh', 'do', 'into', 'shes', 'what', 'beautiful', 'back', 'its', 'home', 'girl', 'woman', 'fairy', 'when', 'godmother', 'would', 'said', 'just', 'as', 'little', 'has', 'shoe', 'well', 'dont', 'his', 'mother', 'them', 'daughters', 'house', 'stepsisters', 'midnight', 'by', 'men', 'bye', 'girls', 'mice', 'sisters', 'everything', 'fit', 'came', 'other', 'goes', 'really', 'didnt', 'find', 'see', 'man', 'made', 'about', 'are', 'off', 'their', 'okay', 'pumpkin', 'good', 'nine', 'theyre', 'could', 'cant', 'from', 'dance', 'can', 'carriage', 'away', 'wanted', 'found', 'young', 'gets', 'father', 'god', 'around', 'three', 'think', 'did', 'slippers', 'try', 'nice', 'thats', 'thing', 'castle', 'mean', 'down', 'where', 'im', 'day', 'we', 'married', 'say', 'tried', 'looking', 'come', 'horses', 'animals', 'theres', 'now', 'left', 'way', '12', 'after', 'too', 'make', 'anyway', 'cinderellas', 'pretty', 'some', 'princess', 'foot', 'him', 'something', 'kind', 'want', 'right', 'an', 'work', 'my', 'big', 'will', 'comes', 'things', 'course', 'yeah', 'clock', 'turned', 'party', 'people', 'put', 'lost', 'over', 'here', 'shoes', 'love', 'if', 'only', 'lady', 'saw', 'how', 'dancing', 'took', 'leave', 'family', 'guess', 'yes', 'told', 'coach', 'sudden', 'room', 'ran', 'before', 'wife', 'kingdom', 'friends', 'take', 'daughter', 'story', 'remember', 'everybody', 'trying', 'couldnt', 'oclock', 'clothes', 'new', 'gown', 'ready', 'dressed', 'which', 'look', 'me', 'lived', 'evil', 'danced', 'also', 'decided', 'looked', 'running', 'happy', 'says', 'hes', 'women', 'help', 'person', 'son', 'old', 'doesnt', 'horse', 'stuff', 'wear', 'able', 'fits', 'wants', 'maybe', 'been', 'these', 'feet', 'having', 'invited', 'magic', 'even', 'much', 'clean', 'excited', 'again', 'place', 'ding', 'wonderful', 'night', 'every', 'invitation', 'live', 'finally', 'thought', 'marry', 'once', 'gave', 'cleaning', 'must', 'turn', 'care', 'palace', 'dad', 'more', 'bad', 'sad', 'being', 'getting', 'died', 'name', 'began', 'step-sisters', 'became', 'does', 'life', 'servant', 'met', 'youre', 'while', 'first', 'together', 'step', 'sure', 'book', 'children', 'doing']\n"
     ]
    }
   ],
   "source": [
    "original_disfluency_tokens = json.load(open('/workspace/RAPID/dataset/_disfluency_tk_300.json'))\n",
    "print(original_disfluency_tokens)"
   ]
  }
 ],
 "metadata": {
  "kernelspec": {
   "display_name": "aphasia",
   "language": "python",
   "name": "python3"
  },
  "language_info": {
   "codemirror_mode": {
    "name": "ipython",
    "version": 3
   },
   "file_extension": ".py",
   "mimetype": "text/x-python",
   "name": "python",
   "nbconvert_exporter": "python",
   "pygments_lexer": "ipython3",
   "version": "3.8.20"
  }
 },
 "nbformat": 4,
 "nbformat_minor": 2
}
