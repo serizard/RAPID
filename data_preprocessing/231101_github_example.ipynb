{
 "cells": [
  {
   "cell_type": "code",
   "execution_count": 2,
   "metadata": {},
   "outputs": [
    {
     "ename": "ModuleNotFoundError",
     "evalue": "No module named 'opensmile'",
     "output_type": "error",
     "traceback": [
      "\u001b[1;31m---------------------------------------------------------------------------\u001b[0m",
      "\u001b[1;31mModuleNotFoundError\u001b[0m                       Traceback (most recent call last)",
      "Cell \u001b[1;32mIn[2], line 2\u001b[0m\n\u001b[0;32m      1\u001b[0m \u001b[38;5;28;01mimport\u001b[39;00m \u001b[38;5;21;01mpandas\u001b[39;00m \u001b[38;5;28;01mas\u001b[39;00m \u001b[38;5;21;01mpd\u001b[39;00m\n\u001b[1;32m----> 2\u001b[0m \u001b[38;5;28;01mimport\u001b[39;00m \u001b[38;5;21;01mopensmile\u001b[39;00m\n\u001b[0;32m      3\u001b[0m \u001b[38;5;28;01mfrom\u001b[39;00m \u001b[38;5;21;01mtqdm\u001b[39;00m \u001b[38;5;28;01mimport\u001b[39;00m tqdm \n\u001b[0;32m      4\u001b[0m \u001b[38;5;28;01mimport\u001b[39;00m \u001b[38;5;21;01margparse\u001b[39;00m\n",
      "\u001b[1;31mModuleNotFoundError\u001b[0m: No module named 'opensmile'"
     ]
    }
   ],
   "source": [
    "import pandas as pd\n",
    "import opensmile\n",
    "from tqdm import tqdm \n",
    "import argparse\n",
    "from pydub import AudioSegment\n",
    "import os \n",
    "\n",
    "\n",
    "import cv2\n",
    "import glob\n",
    "from pathlib import Path\n",
    "from PIL import Image\n",
    "\n",
    "import numpy as np\n",
    "\n",
    "# mediapipe \n",
    "import mediapipe as mp\n",
    "from mediapipe.tasks import python\n",
    "from mediapipe.tasks.python import vision\n"
   ]
  },
  {
   "cell_type": "code",
   "execution_count": 98,
   "metadata": {},
   "outputs": [],
   "source": [
    "ex_df= pd.read_csv('./ex_data.csv')"
   ]
  },
  {
   "cell_type": "markdown",
   "metadata": {},
   "source": [
    "# 1. Extract Audio Feature"
   ]
  },
  {
   "cell_type": "code",
   "execution_count": 101,
   "metadata": {},
   "outputs": [],
   "source": [
    "smile = opensmile.Smile(\n",
    "    feature_set=opensmile.FeatureSet.eGeMAPSv02,\n",
    "    feature_level=opensmile.FeatureLevel.Functionals,\n",
    ")"
   ]
  },
  {
   "cell_type": "code",
   "execution_count": 105,
   "metadata": {},
   "outputs": [
    {
     "name": "stderr",
     "output_type": "stream",
     "text": [
      "  0%|                                                    | 0/10 [00:00<?, ?it/s]/home/dsail/daeun/_virtualenv/aphasia_py37/lib/python3.7/site-packages/opensmile/core/smile.py:302: UserWarning: Segment too short, filling with NaN.\n",
      "  UserWarning(\"Segment too short, filling with NaN.\")\n",
      "100%|███████████████████████████████████████████| 10/10 [00:19<00:00,  1.94s/it]\n"
     ]
    }
   ],
   "source": [
    "opensmile_file_list = []\n",
    "for row1 in tqdm(ex_df.itertuples(),total=len(ex_df)):\n",
    "    new_file_name = row1.txt_img_path.replace('text_bind','opensmile_bind')\n",
    "    new_path = new_file_name.replace(new_file_name.split('/')[-1],'')\n",
    "    if not os.path.exists(new_path):\n",
    "        os.makedirs(new_path)\n",
    "\n",
    "    txt_df = pd.read_json(row1.txt_img_path)\n",
    "    #vid_df = pd.read_json(row1.pose_path)[video_col]\n",
    "\n",
    "    zero_point = txt_df.start.iloc[0]\n",
    "    aud_df = pd.DataFrame()\n",
    "    for row2 in txt_df.itertuples():\n",
    "        y = smile.process_file(row1.audio_path, start=row2.start-zero_point, end=row2.end-zero_point)\n",
    "        aud_df = pd.concat([aud_df,y],axis=0)\n",
    "        \n",
    "    aud_df.reset_index(drop=True).to_json(new_file_name)\n",
    "    opensmile_file_list.append(new_file_name)"
   ]
  },
  {
   "cell_type": "markdown",
   "metadata": {},
   "source": [
    "# 2. Extract Gesture Feature"
   ]
  },
  {
   "cell_type": "code",
   "execution_count": 107,
   "metadata": {},
   "outputs": [],
   "source": [
    "mp_holistic = mp.solutions.holistic"
   ]
  },
  {
   "cell_type": "code",
   "execution_count": 108,
   "metadata": {},
   "outputs": [
    {
     "name": "stderr",
     "output_type": "stream",
     "text": [
      "100%|███████████████████████████████████████████| 10/10 [02:05<00:00, 12.55s/it]\n"
     ]
    }
   ],
   "source": [
    "pose_file_list = []\n",
    "for txt_video_path in tqdm(ex_df['txt_img_path'].tolist()):\n",
    "\n",
    "    txt_df = pd.read_json(txt_video_path)\n",
    "\n",
    "    new_df = pd.DataFrame()\n",
    "    new_file_name = txt_video_path.replace('text_bind','pose_bind')\n",
    "    new_path = new_file_name.replace(new_file_name.split('/')[-1],'')\n",
    "\n",
    "    if not os.path.exists(new_path):\n",
    "        os.makedirs(new_path)\n",
    "\n",
    "    for i,token_img_path in enumerate(txt_df['token_img_path'].tolist()):\n",
    "        with mp_holistic.Holistic(static_image_mode=True, min_detection_confidence=0.5, model_complexity=2) as holistic:\n",
    "\n",
    "            image= cv2.imread(token_img_path)\n",
    "\n",
    "            results = holistic.process(cv2.cvtColor(image, cv2.COLOR_BGR2RGB))\n",
    "            dic = {'token_img_path':token_img_path}\n",
    "\n",
    "            if results.pose_landmarks:\n",
    "                for mark, data_point in zip(mp_holistic.PoseLandmark, results.pose_landmarks.landmark):\n",
    "                    dic[mark.name] = dict(landmark = mark.name, \n",
    "                        x = data_point.x,\n",
    "                        y = data_point.y,\n",
    "                        z = data_point.z,\n",
    "                        visibility = data_point.visibility)\n",
    "            else : \n",
    "                for mark in mp_holistic.PoseLandmark:\n",
    "                    dic[mark.name] = np.nan\n",
    "            new_df = new_df.append(dic, ignore_index=True)\n",
    "\n",
    "    pose_keypoints_list = new_df.columns.tolist()[1:]\n",
    "\n",
    "    new_new_df = pd.DataFrame()\n",
    "    for i,row in new_df.iterrows():\n",
    "        dic = {'token_img_path':row['token_img_path']}\n",
    "        for keypoint in pose_keypoints_list:\n",
    "            if (row[keypoint] is None ) or ( type(row[keypoint]) is not dict):\n",
    "                for coord in ['x','y','z']: \n",
    "                    dic[f'{keypoint}_{coord}']= np.nan\n",
    "            else: \n",
    "                for coord in ['x','y','z']: \n",
    "                    # print(row[keypoint])\n",
    "                    dic[f'{keypoint}_{coord}']= row[keypoint][coord]\n",
    "        new_new_df = new_new_df.append(dic,ignore_index=True)\n",
    "\n",
    "    new_new_df.to_json(new_file_name,orient='records')\n",
    "    pose_file_list.append(new_file_name)"
   ]
  },
  {
   "cell_type": "code",
   "execution_count": 111,
   "metadata": {},
   "outputs": [],
   "source": [
    "ex_df['pose_path'] = pose_file_list\n",
    "ex_df['opensmile_path'] = opensmile_file_list"
   ]
  },
  {
   "cell_type": "code",
   "execution_count": 112,
   "metadata": {},
   "outputs": [],
   "source": [
    "video_col = ['NOSE_x', 'NOSE_y', 'NOSE_z', 'LEFT_EYE_INNER_x','LEFT_EYE_INNER_y', 'LEFT_EYE_INNER_z', 'LEFT_EYE_x', 'LEFT_EYE_y','LEFT_EYE_z', \n",
    "             'LEFT_EYE_OUTER_x', 'LEFT_EYE_OUTER_y','LEFT_EYE_OUTER_z', 'RIGHT_EYE_INNER_x', 'RIGHT_EYE_INNER_y','RIGHT_EYE_INNER_z', \n",
    "             'RIGHT_EYE_x', 'RIGHT_EYE_y', 'RIGHT_EYE_z','RIGHT_EYE_OUTER_x', 'RIGHT_EYE_OUTER_y', 'RIGHT_EYE_OUTER_z','LEFT_EAR_x', \n",
    "             'LEFT_EAR_y', 'LEFT_EAR_z', 'RIGHT_EAR_x', 'RIGHT_EAR_y','RIGHT_EAR_z', 'MOUTH_LEFT_x', 'MOUTH_LEFT_y', 'MOUTH_LEFT_z',\n",
    "             'MOUTH_RIGHT_x', 'MOUTH_RIGHT_y', 'MOUTH_RIGHT_z', 'LEFT_SHOULDER_x','LEFT_SHOULDER_y', 'LEFT_SHOULDER_z', 'RIGHT_SHOULDER_x',\n",
    "             'RIGHT_SHOULDER_y', 'RIGHT_SHOULDER_z', 'LEFT_ELBOW_x', 'LEFT_ELBOW_y','LEFT_ELBOW_z', 'RIGHT_ELBOW_x', 'RIGHT_ELBOW_y', \n",
    "             'RIGHT_ELBOW_z','LEFT_WRIST_x', 'LEFT_WRIST_y', 'LEFT_WRIST_z', 'RIGHT_WRIST_x','RIGHT_WRIST_y', 'RIGHT_WRIST_z', 'LEFT_PINKY_x', \n",
    "             'LEFT_PINKY_y','LEFT_PINKY_z', 'RIGHT_PINKY_x', 'RIGHT_PINKY_y', 'RIGHT_PINKY_z','LEFT_INDEX_x', 'LEFT_INDEX_y', 'LEFT_INDEX_z',\n",
    "             'RIGHT_INDEX_x','RIGHT_INDEX_y', 'RIGHT_INDEX_z', 'LEFT_THUMB_x', 'LEFT_THUMB_y','LEFT_THUMB_z', 'RIGHT_THUMB_x', 'RIGHT_THUMB_y','RIGHT_THUMB_z']\n",
    "\n",
    "audio_col = ['F0semitoneFrom27.5Hz_sma3nz_amean','F1amplitudeLogRelF0_sma3nz_amean','F1bandwidth_sma3nz_amean','F1frequency_sma3nz_amean',\n",
    "             'F2amplitudeLogRelF0_sma3nz_amean','F2bandwidth_sma3nz_amean','F2frequency_sma3nz_amean','F3amplitudeLogRelF0_sma3nz_amean',\n",
    "             'F3bandwidth_sma3nz_amean','F3frequency_sma3nz_amean','HNRdBACF_sma3nz_amean','alphaRatioV_sma3nz_amean',\n",
    "             'hammarbergIndexV_sma3nz_amean','jitterLocal_sma3nz_amean','logRelF0-H1-A3_sma3nz_amean','logRelF0-H1-H2_sma3nz_amean',\n",
    "             'loudness_sma3_amean','mfcc1_sma3_amean','mfcc2_sma3_amean','mfcc3_sma3_amean','mfcc4_sma3_amean','shimmerLocaldB_sma3nz_amean',\n",
    "             'slopeV0-500_sma3nz_amean','slopeV500-1500_sma3nz_amean','spectralFlux_sma3_amean']"
   ]
  },
  {
   "cell_type": "code",
   "execution_count": 119,
   "metadata": {},
   "outputs": [
    {
     "name": "stderr",
     "output_type": "stream",
     "text": [
      "10it [00:00, 15.60it/s]\n"
     ]
    }
   ],
   "source": [
    "for row in tqdm(ex_df.itertuples()):\n",
    "    df_txt = pd.read_json(row.txt_img_path)\n",
    "    df_aud = pd.read_json(row.opensmile_path)[audio_col].interpolate()\n",
    "    df_vid = pd.read_json(row.pose_path)[video_col].interpolate()\n",
    "    \n",
    "    df_txt = pd.concat([df_txt,df_aud],axis=1)\n",
    "    df_txt = pd.concat([df_txt,df_vid],axis=1)\n",
    "#     df_txt.to_json(row.txt_img_path)"
   ]
  },
  {
   "cell_type": "code",
   "execution_count": 121,
   "metadata": {},
   "outputs": [
    {
     "data": {
      "text/plain": [
       "Index(['user_name', 'status', 'chunk_id', 'token', 'start', 'end',\n",
       "       'token_img_path', 'F0semitoneFrom27.5Hz_sma3nz_amean',\n",
       "       'F1amplitudeLogRelF0_sma3nz_amean', 'F1bandwidth_sma3nz_amean',\n",
       "       ...\n",
       "       'LEFT_INDEX_z', 'RIGHT_INDEX_x', 'RIGHT_INDEX_y', 'RIGHT_INDEX_z',\n",
       "       'LEFT_THUMB_x', 'LEFT_THUMB_y', 'LEFT_THUMB_z', 'RIGHT_THUMB_x',\n",
       "       'RIGHT_THUMB_y', 'RIGHT_THUMB_z'],\n",
       "      dtype='object', length=101)"
      ]
     },
     "execution_count": 121,
     "metadata": {},
     "output_type": "execute_result"
    }
   ],
   "source": [
    "df_txt.columns"
   ]
  },
  {
   "cell_type": "code",
   "execution_count": null,
   "metadata": {},
   "outputs": [],
   "source": [
    "[]"
   ]
  }
 ],
 "metadata": {
  "kernelspec": {
   "display_name": "Python 3",
   "language": "python",
   "name": "python3"
  },
  "language_info": {
   "codemirror_mode": {
    "name": "ipython",
    "version": 3
   },
   "file_extension": ".py",
   "mimetype": "text/x-python",
   "name": "python",
   "nbconvert_exporter": "python",
   "pygments_lexer": "ipython3",
   "version": "3.8.19"
  }
 },
 "nbformat": 4,
 "nbformat_minor": 2
}
